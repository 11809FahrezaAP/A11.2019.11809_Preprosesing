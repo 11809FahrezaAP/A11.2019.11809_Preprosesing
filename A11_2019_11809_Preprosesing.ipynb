{
  "nbformat": 4,
  "nbformat_minor": 0,
  "metadata": {
    "colab": {
      "name": "A11.2019.11809_Preprosesing.ipynb",
      "provenance": []
    },
    "kernelspec": {
      "name": "python3",
      "display_name": "Python 3"
    },
    "language_info": {
      "name": "python"
    }
  },
  "cells": [
    {
      "cell_type": "code",
      "execution_count": 1,
      "metadata": {
        "id": "VNihG_y55xND"
      },
      "outputs": [],
      "source": [
        "import numpy as np\n",
        "import matplotlib.pyplot as plt\n",
        "import pandas as pd"
      ]
    },
    {
      "cell_type": "code",
      "source": [
        "dataset = pd.read_csv('Data.csv')\n",
        "x = dataset.iloc[:,:-1].values\n",
        "y = dataset.iloc[:,-1].values"
      ],
      "metadata": {
        "id": "AbTFDP1i54EC"
      },
      "execution_count": 2,
      "outputs": []
    },
    {
      "cell_type": "code",
      "source": [
        "print(x)"
      ],
      "metadata": {
        "colab": {
          "base_uri": "https://localhost:8080/"
        },
        "id": "6vcVTUHU6QU0",
        "outputId": "4f3f19cd-3d19-4b8c-dfad-0a80f7c52657"
      },
      "execution_count": 3,
      "outputs": [
        {
          "output_type": "stream",
          "name": "stdout",
          "text": [
            "[['Japan' 45.0 70000.0]\n",
            " ['Indonesia' 25.0 45000.0]\n",
            " ['Vietnam' 30.0 50000.0]\n",
            " ['Indonesia' 35.0 61000.0]\n",
            " ['Japan' 40.0 nan]\n",
            " ['Vietnam' 38.0 56000.0]\n",
            " ['Indonesia' nan 54000.0]]\n"
          ]
        }
      ]
    },
    {
      "cell_type": "code",
      "source": [
        "print(y)"
      ],
      "metadata": {
        "colab": {
          "base_uri": "https://localhost:8080/"
        },
        "id": "8Ic9QMRD6U56",
        "outputId": "17979939-66dd-4ef2-cabc-5e5ef436ec35"
      },
      "execution_count": 4,
      "outputs": [
        {
          "output_type": "stream",
          "name": "stdout",
          "text": [
            "['No' 'Yes' 'No' 'No' 'Yes' 'Yes' 'No']\n"
          ]
        }
      ]
    },
    {
      "cell_type": "code",
      "source": [
        "from sklearn.impute import SimpleImputer\n",
        "imputer = SimpleImputer(missing_values=np.nan, strategy='mean')\n",
        "imputer.fit(x[:,1:3])\n",
        "x[:, 1:3] =imputer.transform(x[:,1:3])"
      ],
      "metadata": {
        "id": "TZ8fWYMB6Wzb"
      },
      "execution_count": 5,
      "outputs": []
    },
    {
      "cell_type": "code",
      "source": [
        "print(x)"
      ],
      "metadata": {
        "colab": {
          "base_uri": "https://localhost:8080/"
        },
        "id": "nmYGzcng6c-z",
        "outputId": "5f4efe87-7306-4a01-9b92-6a8bcc7c8feb"
      },
      "execution_count": 6,
      "outputs": [
        {
          "output_type": "stream",
          "name": "stdout",
          "text": [
            "[['Japan' 45.0 70000.0]\n",
            " ['Indonesia' 25.0 45000.0]\n",
            " ['Vietnam' 30.0 50000.0]\n",
            " ['Indonesia' 35.0 61000.0]\n",
            " ['Japan' 40.0 56000.0]\n",
            " ['Vietnam' 38.0 56000.0]\n",
            " ['Indonesia' 35.5 54000.0]]\n"
          ]
        }
      ]
    },
    {
      "cell_type": "code",
      "source": [
        "from sklearn.compose import ColumnTransformer\n",
        "from sklearn.preprocessing import OneHotEncoder\n",
        "ct = ColumnTransformer(transformers=[('encoder',OneHotEncoder(),[0])], remainder='passthrough')\n",
        "x = np.array(ct.fit_transform(x))"
      ],
      "metadata": {
        "id": "WU2HGplA6fPl"
      },
      "execution_count": 7,
      "outputs": []
    },
    {
      "cell_type": "code",
      "source": [
        "print(x)"
      ],
      "metadata": {
        "colab": {
          "base_uri": "https://localhost:8080/"
        },
        "id": "uEpWTVtL6i-i",
        "outputId": "506aa214-5ce9-4978-b5ab-d0b460666416"
      },
      "execution_count": 8,
      "outputs": [
        {
          "output_type": "stream",
          "name": "stdout",
          "text": [
            "[[0.0 1.0 0.0 45.0 70000.0]\n",
            " [1.0 0.0 0.0 25.0 45000.0]\n",
            " [0.0 0.0 1.0 30.0 50000.0]\n",
            " [1.0 0.0 0.0 35.0 61000.0]\n",
            " [0.0 1.0 0.0 40.0 56000.0]\n",
            " [0.0 0.0 1.0 38.0 56000.0]\n",
            " [1.0 0.0 0.0 35.5 54000.0]]\n"
          ]
        }
      ]
    },
    {
      "cell_type": "code",
      "source": [
        "from sklearn.preprocessing import LabelEncoder\n",
        "le = LabelEncoder()\n",
        "y = le.fit_transform(y)"
      ],
      "metadata": {
        "id": "QF8sO2vU6nuj"
      },
      "execution_count": 9,
      "outputs": []
    },
    {
      "cell_type": "code",
      "source": [
        "print(y)"
      ],
      "metadata": {
        "colab": {
          "base_uri": "https://localhost:8080/"
        },
        "id": "sCddpljX6qRl",
        "outputId": "2f917698-6a17-44f5-b8a7-f56bd6c1644a"
      },
      "execution_count": 10,
      "outputs": [
        {
          "output_type": "stream",
          "name": "stdout",
          "text": [
            "[0 1 0 0 1 1 0]\n"
          ]
        }
      ]
    },
    {
      "cell_type": "code",
      "source": [
        "from sklearn.model_selection import train_test_split\n",
        "x_train, x_test, y_train, y_test = train_test_split(x,y,test_size=0.2, random_state=1)"
      ],
      "metadata": {
        "id": "WiNeE03J6su7"
      },
      "execution_count": 11,
      "outputs": []
    },
    {
      "cell_type": "code",
      "source": [
        "print(x_train)"
      ],
      "metadata": {
        "colab": {
          "base_uri": "https://localhost:8080/"
        },
        "id": "n-7eI5-v6x8y",
        "outputId": "1b828f6b-c27c-4b38-942b-6243e19e577d"
      },
      "execution_count": 12,
      "outputs": [
        {
          "output_type": "stream",
          "name": "stdout",
          "text": [
            "[[1.0 0.0 0.0 25.0 45000.0]\n",
            " [0.0 1.0 0.0 45.0 70000.0]\n",
            " [0.0 1.0 0.0 40.0 56000.0]\n",
            " [1.0 0.0 0.0 35.0 61000.0]\n",
            " [0.0 0.0 1.0 38.0 56000.0]]\n"
          ]
        }
      ]
    },
    {
      "cell_type": "code",
      "source": [
        "print(x_test)"
      ],
      "metadata": {
        "colab": {
          "base_uri": "https://localhost:8080/"
        },
        "id": "yk4XxEw46zfd",
        "outputId": "319dfb4c-2dcc-43eb-b4bf-42c87bce2557"
      },
      "execution_count": 13,
      "outputs": [
        {
          "output_type": "stream",
          "name": "stdout",
          "text": [
            "[[1.0 0.0 0.0 35.5 54000.0]\n",
            " [0.0 0.0 1.0 30.0 50000.0]]\n"
          ]
        }
      ]
    },
    {
      "cell_type": "code",
      "source": [
        "print(y_train)"
      ],
      "metadata": {
        "colab": {
          "base_uri": "https://localhost:8080/"
        },
        "id": "sLjWI3WE634L",
        "outputId": "de123748-69f4-4414-9c3d-aa5faa0efb53"
      },
      "execution_count": 14,
      "outputs": [
        {
          "output_type": "stream",
          "name": "stdout",
          "text": [
            "[1 0 1 0 1]\n"
          ]
        }
      ]
    },
    {
      "cell_type": "code",
      "source": [
        "print(y_test)"
      ],
      "metadata": {
        "colab": {
          "base_uri": "https://localhost:8080/"
        },
        "id": "Efuh6-lI68-G",
        "outputId": "acc2aef7-cb7e-4c84-f6a4-3b293cb1034c"
      },
      "execution_count": 15,
      "outputs": [
        {
          "output_type": "stream",
          "name": "stdout",
          "text": [
            "[0 0]\n"
          ]
        }
      ]
    },
    {
      "cell_type": "code",
      "source": [
        "from sklearn.preprocessing import StandardScaler\n",
        "sc = StandardScaler()\n",
        "x_train[:,3:] = sc.fit_transform(x_train[:,3:])\n",
        "x_test[:,3:] = sc.transform(x_test[:,3:])"
      ],
      "metadata": {
        "id": "VdfV0Yxk7AL9"
      },
      "execution_count": 16,
      "outputs": []
    },
    {
      "cell_type": "code",
      "source": [
        "print(x_train)"
      ],
      "metadata": {
        "colab": {
          "base_uri": "https://localhost:8080/"
        },
        "id": "0TccNefj7Bpt",
        "outputId": "66bb7aeb-33fd-402b-bcb6-efa207aa219b"
      },
      "execution_count": 17,
      "outputs": [
        {
          "output_type": "stream",
          "name": "stdout",
          "text": [
            "[[1.0 0.0 0.0 -1.7440158600403648 -1.5528361541085662]\n",
            " [0.0 1.0 0.0 1.2629080365809535 1.5281879611862081]\n",
            " [0.0 1.0 0.0 0.5111770624256239 -0.19718554337886557]\n",
            " [1.0 0.0 0.0 -0.24055391172970567 0.4190192796800893]\n",
            " [0.0 0.0 1.0 0.21048467276349206 -0.19718554337886557]]\n"
          ]
        }
      ]
    },
    {
      "cell_type": "code",
      "source": [
        "print(x_test)"
      ],
      "metadata": {
        "colab": {
          "base_uri": "https://localhost:8080/"
        },
        "id": "Mt13kmxX7F00",
        "outputId": "f8fb7cc6-72de-489e-e131-81a763b30512"
      },
      "execution_count": 18,
      "outputs": [
        {
          "output_type": "stream",
          "name": "stdout",
          "text": [
            "[[1.0 0.0 0.0 -0.1653808143141727 -0.4436674726024475]\n",
            " [0.0 0.0 1.0 -0.9922848858850352 -0.9366313310496114]]\n"
          ]
        }
      ]
    }
  ]
}